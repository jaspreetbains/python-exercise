{
 "cells": [
  {
   "cell_type": "markdown",
   "id": "beb514eb",
   "metadata": {},
   "source": [
    "# Exercise: Raise Exception And Finally\n",
    "\n",
    "1. Create a custom exception AdultException.\n",
    "\n",
    "2. Create a class Person with attributes name and age in it.\n",
    "\n",
    "3. Create a function get_minor_age() in the class. It throws an exception if the person is adult otherwise returns age.\n",
    "\n",
    "4. Create a function display_person() which prints the age and name of a person.\n",
    "\n",
    "let us say,\n",
    "\n",
    "if age>18 \n",
    "    he is major\n",
    "else\n",
    "    raise exception\n",
    "\n",
    "create cusomException named ismajor and raise it if age<18."
   ]
  },
  {
   "cell_type": "code",
   "execution_count": 1,
   "id": "ae8b6b4d",
   "metadata": {},
   "outputs": [
    {
     "name": "stdout",
     "output_type": "stream",
     "text": [
      "age -> 17\n",
      "name -> Bhavin\n",
      "Person is an adult\n",
      "name -> Dhaval\n"
     ]
    }
   ],
   "source": [
    "# for making exception just make subclass of Exception\n",
    "class AdultException(Exception):\n",
    "    pass\n",
    "\n",
    "\n",
    "class Person:\n",
    "    def __init__(self, name, age):\n",
    "        self.name = name\n",
    "        self.age = age\n",
    "\n",
    "    def get_minor_age(self):\n",
    "        if int(self.age) >= 18:\n",
    "            raise AdultException\n",
    "        else:\n",
    "            return self.age\n",
    "\n",
    "    def display(self):\n",
    "        try:\n",
    "            print(f\"age -> {self.get_minor_age()}\")\n",
    "        except AdultException:\n",
    "            print(\"Person is an adult\")\n",
    "        finally:\n",
    "            print(f\"name -> {self.name}\")\n",
    "\n",
    "\n",
    "# No exception\n",
    "Person(\"Bhavin\", 17).display()\n",
    "\n",
    "# AdultException is raised\n",
    "Person(\"Dhaval\", 23).display()"
   ]
  },
  {
   "cell_type": "code",
   "execution_count": null,
   "id": "83d3fa4b",
   "metadata": {},
   "outputs": [],
   "source": []
  }
 ],
 "metadata": {
  "kernelspec": {
   "display_name": "Python 3 (ipykernel)",
   "language": "python",
   "name": "python3"
  },
  "language_info": {
   "codemirror_mode": {
    "name": "ipython",
    "version": 3
   },
   "file_extension": ".py",
   "mimetype": "text/x-python",
   "name": "python",
   "nbconvert_exporter": "python",
   "pygments_lexer": "ipython3",
   "version": "3.9.13"
  }
 },
 "nbformat": 4,
 "nbformat_minor": 5
}
