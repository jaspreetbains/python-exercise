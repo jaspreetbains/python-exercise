{
 "cells": [
  {
   "cell_type": "raw",
   "id": "cafde367",
   "metadata": {},
   "source": [
    "# 1. Let us say your expense for every month are listed below,\n",
    "# \t1. January -  2200\n",
    "#  \t2. February - 2350\n",
    "#     3. March - 2600\n",
    "#     4. April - 2130\n",
    "#     5. May - 2190\n",
    "#\n",
    "# Create a list to store these monthly expenses and using that find out,\n",
    "#\n",
    "# 1. In Feb, how many dollars you spent extra compare to January?\n",
    "# 2. Find out your total expense in first quarter (first three months) of the year.\n",
    "# 3. Find out if you spent exactly 2000 dollars in any month\n",
    "# 4. June month just finished and your expense is 1980 dollar. Add this item to our monthly expense list\n",
    "# 5. You returned an item that you bought in a month of April and got a refund of 200$. Make a correction to your monthly expense list based on this"
   ]
  },
  {
   "cell_type": "code",
   "execution_count": 1,
   "id": "2a3f06c8",
   "metadata": {},
   "outputs": [],
   "source": [
    "expense_lists = [2200,2350,2600,2130,2190]"
   ]
  },
  {
   "cell_type": "code",
   "execution_count": 2,
   "id": "0e2c5639",
   "metadata": {},
   "outputs": [
    {
     "name": "stdout",
     "output_type": "stream",
     "text": [
      "1. Dollars you spent extra compare to January in Feb =  150\n"
     ]
    }
   ],
   "source": [
    "print(\"1. Dollars you spent extra compare to January in Feb = \",str(expense_lists[1]-expense_lists[0]))"
   ]
  },
  {
   "cell_type": "code",
   "execution_count": 3,
   "id": "fe1189b5",
   "metadata": {},
   "outputs": [
    {
     "name": "stdout",
     "output_type": "stream",
     "text": [
      "2. Total expense in first quarter (first three months) of the year =  7150\n"
     ]
    }
   ],
   "source": [
    "print(\"2. Total expense in first quarter (first three months) of the year = \",str(expense_lists[0]+expense_lists[1]+expense_lists[2]))"
   ]
  },
  {
   "cell_type": "code",
   "execution_count": 4,
   "id": "97b8b1d8",
   "metadata": {},
   "outputs": [
    {
     "name": "stdout",
     "output_type": "stream",
     "text": [
      "3. you spent exactly 2000 dollars in any month =  False\n"
     ]
    }
   ],
   "source": [
    "flag = False\n",
    "for expense in expense_lists:\n",
    "    if expense == 2000:\n",
    "        flag = True\n",
    "print(\"3. you spent exactly 2000 dollars in any month = \",flag )"
   ]
  },
  {
   "cell_type": "code",
   "execution_count": 5,
   "id": "e0802ff0",
   "metadata": {},
   "outputs": [
    {
     "name": "stdout",
     "output_type": "stream",
     "text": [
      "4. June month just finished. 1980\n"
     ]
    }
   ],
   "source": [
    "expense_lists.append(1980)\n",
    "print(\"4. June month just finished.\", expense_lists[-1])"
   ]
  },
  {
   "cell_type": "code",
   "execution_count": 6,
   "id": "9120352a",
   "metadata": {},
   "outputs": [
    {
     "name": "stdout",
     "output_type": "stream",
     "text": [
      "5. Expenses after 200$ return in April: [2200, 2350, 2600, 1930, 2190, 1980]\n"
     ]
    }
   ],
   "source": [
    "expense_lists[3] = expense_lists[3]-200\n",
    "print(\"5. Expenses after 200$ return in April:\",expense_lists)"
   ]
  },
  {
   "cell_type": "code",
   "execution_count": 8,
   "id": "d89f8cfc",
   "metadata": {},
   "outputs": [
    {
     "name": "stdout",
     "output_type": "stream",
     "text": [
      "5\n"
     ]
    }
   ],
   "source": [
    "# 2. You have a list of your favourite marvel super heros\n",
    "# heros=['spider man','thor','hulk','iron man','captain america']\n",
    "# Using this list\n",
    "\n",
    "heros=['spider man','thor','hulk','iron man','captain america']\n",
    "# 1. Length of the list\n",
    "print(len(heros))\n"
   ]
  },
  {
   "cell_type": "code",
   "execution_count": 9,
   "id": "8359c193",
   "metadata": {},
   "outputs": [],
   "source": [
    "# 2. Add 'black panther' at the end of this list\n",
    "heros.append('black panther')\n",
    "print(heros)"
   ]
  },
  {
   "cell_type": "code",
   "execution_count": 10,
   "id": "c86b5b51",
   "metadata": {},
   "outputs": [
    {
     "name": "stdout",
     "output_type": "stream",
     "text": [
      "['spider man', 'thor', 'hulk', 'black panther', 'iron man', 'captain america']\n"
     ]
    }
   ],
   "source": [
    "\n",
    "# 3. You realize that you need to add 'black panther' after 'hulk',\n",
    "# so remove it from the list first and then add it after 'hulk'\n",
    "heros.remove('black panther')\n",
    "heros.insert(3,'black panther')\n",
    "print(heros)"
   ]
  },
  {
   "cell_type": "code",
   "execution_count": 11,
   "id": "4e6fb9fe",
   "metadata": {},
   "outputs": [
    {
     "name": "stdout",
     "output_type": "stream",
     "text": [
      "['spider man', 'doctor strange', 'black panther', 'iron man', 'captain america']\n"
     ]
    }
   ],
   "source": [
    "# 4. Now you don't like thor and hulk because they get angry easily :)\n",
    "#    So you want to remove thor and hulk from list and replace them with doctor strange (because he is cool).\n",
    "#    Do that with one line of code.\n",
    "heros[1:3]=['doctor strange']\n",
    "print(heros)\n"
   ]
  },
  {
   "cell_type": "code",
   "execution_count": 12,
   "id": "72acb59a",
   "metadata": {},
   "outputs": [
    {
     "name": "stdout",
     "output_type": "stream",
     "text": [
      "['black panther', 'captain america', 'doctor strange', 'iron man', 'spider man']\n"
     ]
    }
   ],
   "source": [
    "# 5. Sort the list in alphabetical order\n",
    "heros.sort()\n",
    "print(heros)"
   ]
  },
  {
   "cell_type": "code",
   "execution_count": null,
   "id": "9f873d46",
   "metadata": {},
   "outputs": [],
   "source": []
  }
 ],
 "metadata": {
  "kernelspec": {
   "display_name": "Python 3 (ipykernel)",
   "language": "python",
   "name": "python3"
  },
  "language_info": {
   "codemirror_mode": {
    "name": "ipython",
    "version": 3
   },
   "file_extension": ".py",
   "mimetype": "text/x-python",
   "name": "python",
   "nbconvert_exporter": "python",
   "pygments_lexer": "ipython3",
   "version": "3.9.13"
  }
 },
 "nbformat": 4,
 "nbformat_minor": 5
}
