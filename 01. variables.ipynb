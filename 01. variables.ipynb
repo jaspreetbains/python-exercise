{
 "cells": [
  {
   "cell_type": "markdown",
   "id": "3a10ef71",
   "metadata": {},
   "source": [
    "# Create a variable called break and assign it a value 5. See what happens and find out the reason behind the behavior that you see.\n"
   ]
  },
  {
   "cell_type": "code",
   "execution_count": 1,
   "id": "ea76bc1a",
   "metadata": {},
   "outputs": [
    {
     "ename": "SyntaxError",
     "evalue": "invalid syntax (2709188746.py, line 1)",
     "output_type": "error",
     "traceback": [
      "\u001b[0;36m  File \u001b[0;32m\"/var/folders/14/z1s59_254cgb18z6mkky1f1m0000gn/T/ipykernel_25041/2709188746.py\"\u001b[0;36m, line \u001b[0;32m1\u001b[0m\n\u001b[0;31m    break = 5\u001b[0m\n\u001b[0m          ^\u001b[0m\n\u001b[0;31mSyntaxError\u001b[0m\u001b[0;31m:\u001b[0m invalid syntax\n"
     ]
    }
   ],
   "source": [
    "break = 5"
   ]
  },
  {
   "cell_type": "markdown",
   "id": "d2b7d374",
   "metadata": {},
   "source": [
    "# Create two variables. One to store your birth year and another one to store current year. Now calculate your age using these two variables"
   ]
  },
  {
   "cell_type": "code",
   "execution_count": 2,
   "id": "12db30af",
   "metadata": {},
   "outputs": [
    {
     "data": {
      "text/plain": [
       "30"
      ]
     },
     "execution_count": 2,
     "metadata": {},
     "output_type": "execute_result"
    }
   ],
   "source": [
    "birth_year = 1994\n",
    "current_year = 2024\n",
    "age = current_year-birth_year\n",
    "age"
   ]
  },
  {
   "cell_type": "markdown",
   "id": "fa199431",
   "metadata": {},
   "source": [
    "# Store your first, middle and last name in three different variables and then print your full name using these variables"
   ]
  },
  {
   "cell_type": "code",
   "execution_count": 3,
   "id": "c257843a",
   "metadata": {},
   "outputs": [
    {
     "data": {
      "text/plain": [
       "'Jaspreet Kaur Rakkar'"
      ]
     },
     "execution_count": 3,
     "metadata": {},
     "output_type": "execute_result"
    }
   ],
   "source": [
    "first_name = \"Jaspreet\"\n",
    "middle_name = \"Kaur\"\n",
    "last_name = \"Rakkar\"\n",
    "full_name = first_name+\" \"+middle_name+\" \"+last_name\n",
    "full_name"
   ]
  },
  {
   "cell_type": "markdown",
   "id": "e2784b9e",
   "metadata": {},
   "source": [
    "# Answer which of these are invalid variable names: _nation 1record record1 record_one record-one record^one continue"
   ]
  },
  {
   "cell_type": "code",
   "execution_count": 4,
   "id": "d335ebae",
   "metadata": {},
   "outputs": [],
   "source": [
    "_nation =\"jass\""
   ]
  },
  {
   "cell_type": "code",
   "execution_count": 5,
   "id": "1286d2af",
   "metadata": {},
   "outputs": [
    {
     "ename": "SyntaxError",
     "evalue": "invalid syntax (2394468744.py, line 1)",
     "output_type": "error",
     "traceback": [
      "\u001b[0;36m  File \u001b[0;32m\"/var/folders/14/z1s59_254cgb18z6mkky1f1m0000gn/T/ipykernel_25041/2394468744.py\"\u001b[0;36m, line \u001b[0;32m1\u001b[0m\n\u001b[0;31m    1record = \"jass\"\u001b[0m\n\u001b[0m     ^\u001b[0m\n\u001b[0;31mSyntaxError\u001b[0m\u001b[0;31m:\u001b[0m invalid syntax\n"
     ]
    }
   ],
   "source": [
    "1record = \"jass\""
   ]
  },
  {
   "cell_type": "code",
   "execution_count": 6,
   "id": "279c7a59",
   "metadata": {},
   "outputs": [],
   "source": [
    "record1 = \"jass\""
   ]
  },
  {
   "cell_type": "code",
   "execution_count": 7,
   "id": "669f058b",
   "metadata": {},
   "outputs": [],
   "source": [
    "record_one = \"jass\""
   ]
  },
  {
   "cell_type": "code",
   "execution_count": 8,
   "id": "19f8e0f8",
   "metadata": {},
   "outputs": [
    {
     "ename": "SyntaxError",
     "evalue": "cannot assign to operator (2094548112.py, line 1)",
     "output_type": "error",
     "traceback": [
      "\u001b[0;36m  File \u001b[0;32m\"/var/folders/14/z1s59_254cgb18z6mkky1f1m0000gn/T/ipykernel_25041/2094548112.py\"\u001b[0;36m, line \u001b[0;32m1\u001b[0m\n\u001b[0;31m    record^one = \"jass\"\u001b[0m\n\u001b[0m    ^\u001b[0m\n\u001b[0;31mSyntaxError\u001b[0m\u001b[0;31m:\u001b[0m cannot assign to operator\n"
     ]
    }
   ],
   "source": [
    "record^one = \"jass\""
   ]
  },
  {
   "cell_type": "code",
   "execution_count": 9,
   "id": "467433e7",
   "metadata": {},
   "outputs": [
    {
     "ename": "SyntaxError",
     "evalue": "invalid syntax (2941819770.py, line 1)",
     "output_type": "error",
     "traceback": [
      "\u001b[0;36m  File \u001b[0;32m\"/var/folders/14/z1s59_254cgb18z6mkky1f1m0000gn/T/ipykernel_25041/2941819770.py\"\u001b[0;36m, line \u001b[0;32m1\u001b[0m\n\u001b[0;31m    continue = \"jass\"\u001b[0m\n\u001b[0m             ^\u001b[0m\n\u001b[0;31mSyntaxError\u001b[0m\u001b[0;31m:\u001b[0m invalid syntax\n"
     ]
    }
   ],
   "source": [
    "continue = \"jass\""
   ]
  },
  {
   "cell_type": "code",
   "execution_count": null,
   "id": "4b9125c1",
   "metadata": {},
   "outputs": [],
   "source": []
  }
 ],
 "metadata": {
  "kernelspec": {
   "display_name": "Python 3 (ipykernel)",
   "language": "python",
   "name": "python3"
  },
  "language_info": {
   "codemirror_mode": {
    "name": "ipython",
    "version": 3
   },
   "file_extension": ".py",
   "mimetype": "text/x-python",
   "name": "python",
   "nbconvert_exporter": "python",
   "pygments_lexer": "ipython3",
   "version": "3.9.13"
  }
 },
 "nbformat": 4,
 "nbformat_minor": 5
}
