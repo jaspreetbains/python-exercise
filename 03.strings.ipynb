{
 "cells": [
  {
   "cell_type": "markdown",
   "id": "66619f2f",
   "metadata": {},
   "source": [
    "# Exercise: String in Python\n",
    "\n",
    "1. Create 3 variables to store street, city and country, now create address variable to store entire address. Use two ways of creating this variable, one using + operator and the other using f-string. Now Print the address in such a way that the street, city and country prints in a separate line\n",
    "2. Create a variable to store the string \"Earth revolves around the sun\"\n",
    "    Print \"revolves\" using slice operator\n",
    "    Print \"sun\" using negative index\n",
    "3. Create two variables to store how many fruits and vegetables you eat in a day. Now Print \"I eat x veggies and y fruits daily\" where x and y presents vegetables and fruits that you eat everyday. Use python f string for this.\n",
    "4. I have a string variable called s='maine 200 banana khaye'. This of course is a wrong statement, the correct statement is 'maine 10 samosa khaye'. Replace incorrect words in original strong with new ones and print the new string. Also try to do this in one line."
   ]
  },
  {
   "cell_type": "code",
   "execution_count": 5,
   "id": "ed19ec27",
   "metadata": {},
   "outputs": [
    {
     "name": "stdout",
     "output_type": "stream",
     "text": [
      "bell air rd, baltimore, USA\n",
      "bell air rd, baltimore, USA\n",
      "bell air rd\n",
      "baltimore\n",
      "USA\n"
     ]
    }
   ],
   "source": [
    "street = \"bell air rd\"\n",
    "city = \"baltimore\"\n",
    "country = \"USA\"\n",
    "address = street+ \", \" + city + \", \" + country\n",
    "print(address)\n",
    "print(f\"{street}, {city}, {country}\")\n",
    "print(f\"{street}\\n{city}\\n{country}\")"
   ]
  },
  {
   "cell_type": "code",
   "execution_count": 9,
   "id": "575919be",
   "metadata": {},
   "outputs": [
    {
     "name": "stdout",
     "output_type": "stream",
     "text": [
      "revolves\n",
      "sun\n"
     ]
    }
   ],
   "source": [
    "string_variable = \"Earth revolves around the sun\"\n",
    "print(string_variable[6:14])\n",
    "print(string_variable[-3:])"
   ]
  },
  {
   "cell_type": "code",
   "execution_count": 10,
   "id": "ce7c764b",
   "metadata": {},
   "outputs": [
    {
     "name": "stdout",
     "output_type": "stream",
     "text": [
      "I eat 1 veggies and 2 fruits daily\n"
     ]
    }
   ],
   "source": [
    "fruits = 2\n",
    "vegetables = 1\n",
    "print(f\"I eat {vegetables} veggies and {fruits} fruits daily\")"
   ]
  },
  {
   "cell_type": "code",
   "execution_count": 11,
   "id": "5f84ed37",
   "metadata": {},
   "outputs": [
    {
     "name": "stdout",
     "output_type": "stream",
     "text": [
      "maine 10 samosa khaye\n"
     ]
    }
   ],
   "source": [
    "s='maine 200 banana khaye'\n",
    "s1 = s.replace(\"200 banana\",\"10 samosa\")\n",
    "print(s1)"
   ]
  },
  {
   "cell_type": "code",
   "execution_count": null,
   "id": "a33a937d",
   "metadata": {},
   "outputs": [],
   "source": []
  }
 ],
 "metadata": {
  "kernelspec": {
   "display_name": "Python 3 (ipykernel)",
   "language": "python",
   "name": "python3"
  },
  "language_info": {
   "codemirror_mode": {
    "name": "ipython",
    "version": 3
   },
   "file_extension": ".py",
   "mimetype": "text/x-python",
   "name": "python",
   "nbconvert_exporter": "python",
   "pygments_lexer": "ipython3",
   "version": "3.9.13"
  }
 },
 "nbformat": 4,
 "nbformat_minor": 5
}
