{
 "cells": [
  {
   "cell_type": "markdown",
   "id": "77c29d43",
   "metadata": {},
   "source": [
    "# Exercise: Sets and Frozen Sets\n",
    "\n",
    "1. create any set anf try to use frozenset(setname)\n",
    "\n",
    "2. Find the elements in a given set that are not in another set\n",
    "\n",
    "    set1 = {1,2,3,4,5}\n",
    "    set2 = {4,5,6,7,8}\n",
    "\n",
    "    diffrence between set1 and set2 is {1,2,3}"
   ]
  },
  {
   "cell_type": "code",
   "execution_count": 1,
   "id": "960b268f",
   "metadata": {},
   "outputs": [
    {
     "name": "stdout",
     "output_type": "stream",
     "text": [
      "frozenset({1, 2, 3, 4, 5})\n",
      "frozenset({1, 2, 3, 4, 5})\n",
      "frozenset({'l', 'h', 'e', 'o'})\n"
     ]
    }
   ],
   "source": [
    "'''\n",
    "In Python, a frozenset is an immutable version of a set. \n",
    "Unlike sets, which are mutable and can be modified (elements can be added or removed), \n",
    "frozensets are immutable, meaning that once created, their elements cannot be changed. \n",
    "Frozensets are useful when you need a set that should not be modified and can be used \n",
    "as dictionary keys or elements of other sets.\n",
    "'''\n",
    "# Creating a frozenset from a list\n",
    "fs = frozenset([1, 2, 3, 4, 5])\n",
    "print(fs)  # Output: frozenset({1, 2, 3, 4, 5})\n",
    "\n",
    "# Creating a frozenset from a set\n",
    "s = {1, 2, 3, 4, 5}\n",
    "fs = frozenset(s)\n",
    "print(fs)  # Output: frozenset({1, 2, 3, 4, 5})\n",
    "\n",
    "# Creating a frozenset from a string\n",
    "fs = frozenset(\"hello\")\n",
    "print(fs)  # Output: frozenset({'h', 'e', 'l', 'o'})"
   ]
  },
  {
   "cell_type": "code",
   "execution_count": 2,
   "id": "287ff4d0",
   "metadata": {},
   "outputs": [
    {
     "name": "stdout",
     "output_type": "stream",
     "text": [
      "{1, 2, 3}\n"
     ]
    }
   ],
   "source": [
    "set1 = {1,2,3,4,5}\n",
    "set2 = {4,5,6,7,8}\n",
    "print(set1-set2)"
   ]
  },
  {
   "cell_type": "code",
   "execution_count": null,
   "id": "ca11abb9",
   "metadata": {},
   "outputs": [],
   "source": []
  }
 ],
 "metadata": {
  "kernelspec": {
   "display_name": "Python 3 (ipykernel)",
   "language": "python",
   "name": "python3"
  },
  "language_info": {
   "codemirror_mode": {
    "name": "ipython",
    "version": 3
   },
   "file_extension": ".py",
   "mimetype": "text/x-python",
   "name": "python",
   "nbconvert_exporter": "python",
   "pygments_lexer": "ipython3",
   "version": "3.9.13"
  }
 },
 "nbformat": 4,
 "nbformat_minor": 5
}
