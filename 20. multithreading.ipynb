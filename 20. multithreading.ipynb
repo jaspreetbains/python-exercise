{
 "cells": [
  {
   "cell_type": "markdown",
   "id": "3590fcc1",
   "metadata": {},
   "source": [
    "# Exercise: Multithreading\n",
    "\n",
    "1. Create any multithreaded code using for loop for creating multithreads\n",
    "for i in range(10):\n",
    "    th = Thread(target=func_name, args=(i, ))\n",
    "    \n",
    "2. print total active threads in multithreaded code using threading.active_count()"
   ]
  },
  {
   "cell_type": "code",
   "execution_count": 1,
   "id": "6a51bc2c",
   "metadata": {},
   "outputs": [
    {
     "name": "stdout",
     "output_type": "stream",
     "text": [
      "Number: 0Letter: a\n",
      "\n",
      "Letter: bNumber: 1\n",
      "\n",
      "Number: 2Letter: c\n",
      "\n",
      "Letter: d\n",
      "Number: 3\n",
      "Letter: e\n",
      "Number: 4\n",
      "Done!\n"
     ]
    }
   ],
   "source": [
    "import threading\n",
    "import time\n",
    "\n",
    "def print_numbers():\n",
    "    for i in range(5):\n",
    "        print(f\"Number: {i}\")\n",
    "        time.sleep(1)\n",
    "\n",
    "def print_letters():\n",
    "    for char in 'abcde':\n",
    "        print(f\"Letter: {char}\")\n",
    "        time.sleep(1)\n",
    "\n",
    "# Create threads\n",
    "thread1 = threading.Thread(target=print_numbers)\n",
    "thread2 = threading.Thread(target=print_letters)\n",
    "\n",
    "# Start threads\n",
    "thread1.start()\n",
    "thread2.start()\n",
    "\n",
    "# Wait for threads to complete\n",
    "thread1.join()\n",
    "thread2.join()\n",
    "\n",
    "print(\"Done!\")"
   ]
  },
  {
   "cell_type": "code",
   "execution_count": 2,
   "id": "a9171579",
   "metadata": {},
   "outputs": [
    {
     "name": "stdout",
     "output_type": "stream",
     "text": [
      "Thread 0 will sleep.Current Threads: 9.\n",
      "Thread 1 will sleep.\n",
      "Current Threads: 10.\n",
      "\n",
      "Thread 2 will sleep.\n",
      "Current Threads: 11.\n",
      "Thread 3 will sleep.\n",
      "Current Threads: 12.\n",
      "Thread 4 will sleep.\n",
      "Current Threads: 13.\n",
      "Thread 5 will sleep.\n",
      "Current Threads: 14.\n",
      "Thread 6 will sleep.\n",
      "Current Threads: 15.\n",
      "Thread 7 will sleep.\n",
      "Current Threads: 16.\n",
      "Thread 8 will sleep.\n",
      "Current Threads: 17.\n",
      "Thread 9 will sleep.\n",
      "Current Threads: 18.\n",
      "Thread 1 is awakeThread 0 is awake\n",
      "Thread 4 is awake\n",
      "Thread 2 is awake\n",
      "Thread 5 is awake\n",
      "Thread 7 is awake\n",
      "Thread 3 is awake\n",
      "Thread 9 is awake\n",
      "\n",
      "Thread 6 is awake\n",
      "Thread 8 is awake\n"
     ]
    }
   ],
   "source": [
    "import time\n",
    "import threading\n",
    "from threading import Thread\n",
    "\n",
    "def sleepMe(i):\n",
    "    print(\"Thread %i will sleep.\" % i)\n",
    "    time.sleep(5)\n",
    "    print(\"Thread %i is awake\" % i)\n",
    "\n",
    "for i in range(10):\n",
    "    th = Thread(target=sleepMe, args=(i, ))\n",
    "    th.start()\n",
    "    print(\"Current Threads: %i.\" % threading.active_count())"
   ]
  },
  {
   "cell_type": "code",
   "execution_count": null,
   "id": "56b7da2e",
   "metadata": {},
   "outputs": [],
   "source": []
  }
 ],
 "metadata": {
  "kernelspec": {
   "display_name": "Python 3 (ipykernel)",
   "language": "python",
   "name": "python3"
  },
  "language_info": {
   "codemirror_mode": {
    "name": "ipython",
    "version": 3
   },
   "file_extension": ".py",
   "mimetype": "text/x-python",
   "name": "python",
   "nbconvert_exporter": "python",
   "pygments_lexer": "ipython3",
   "version": "3.9.13"
  }
 },
 "nbformat": 4,
 "nbformat_minor": 5
}
