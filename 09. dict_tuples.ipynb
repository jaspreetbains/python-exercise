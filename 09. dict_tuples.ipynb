{
 "cells": [
  {
   "cell_type": "markdown",
   "id": "10b08a95",
   "metadata": {},
   "source": [
    "# Exercise: Python Dict and Tuples\n",
    "\n",
    "1. We have following information on countries and their population (population is in crores),\n",
    "\n",
    "    |Country |Population|\n",
    "    |--------|----------|\n",
    "    |China   |143       |\n",
    "    |India   |136       |\n",
    "    |USA     |32        |\n",
    "    |Pakistan|21        |\n",
    "    1. Using above create a dictionary of countries and its population\n",
    "    2. Write a program that asks user for three type of inputs,\n",
    "        1. print: if user enter print then it should print all countries with their population in this format,\n",
    "            ```\n",
    "            china==>143\n",
    "            india==>136\n",
    "            usa==>32\n",
    "            pakistan==>21\n",
    "            ```\n",
    "        1. add: if user input add then it should further ask for a country name to add. \n",
    "            If country already exist in our dataset then it should print that it exist and do nothing. \n",
    "            If it doesn't then it asks for population and add that new country/population in our dictionary and \n",
    "            print it\n",
    "        2. remove: when user inputs remove it should ask for a country to remove. \n",
    "            If country exist in our dictionary then remove it and print new dictionary using \n",
    "            format shown above in (a). Else print that country doesn't exist!\n",
    "        3. query: on this again ask user for which country he or she wants to query.\n",
    "            When user inputs that country it will print population of that country.\n",
    "\n",
    "\n"
   ]
  },
  {
   "cell_type": "code",
   "execution_count": 1,
   "id": "763790b9",
   "metadata": {},
   "outputs": [],
   "source": [
    "#1. Using above create a dictionary of countries and its population\n",
    "population_dict = {'china':143, 'india':136, 'usa':32, 'pakistan':21}"
   ]
  },
  {
   "cell_type": "code",
   "execution_count": 2,
   "id": "010c2c0c",
   "metadata": {},
   "outputs": [],
   "source": [
    "def add():\n",
    "    country = input(\"Enter the name of the country : \")\n",
    "    country = country.lower()\n",
    "    if country in population_dict:\n",
    "        print(\"This country is already in our dataset. Terminatring......\")\n",
    "        return\n",
    "    else:\n",
    "        population = input(f\"Enter the population of the {country} : \")\n",
    "        population = float(population)\n",
    "        population_dict[country] = population\n",
    "        print_all()\n",
    "    "
   ]
  },
  {
   "cell_type": "code",
   "execution_count": 3,
   "id": "ad927cb2",
   "metadata": {},
   "outputs": [],
   "source": [
    "def print_all():\n",
    "    for key in population_dict:\n",
    "        print(f'{key} ==> {population_dict[key]}')"
   ]
  },
  {
   "cell_type": "code",
   "execution_count": 4,
   "id": "fbbbe0fd",
   "metadata": {},
   "outputs": [],
   "source": [
    "def remove():\n",
    "    country = input(\"Enter the name of the country which you want to remove : \")\n",
    "    country = country.lower()\n",
    "    if country in population_dict:\n",
    "        del population_dict[country]\n",
    "        print(\"This country is already in our dataset\")\n",
    "        print_all()\n",
    "    else:\n",
    "        print(\"This country doesn't included in our dataset. Terminatring......\")\n",
    "        return\n",
    "    "
   ]
  },
  {
   "cell_type": "code",
   "execution_count": 5,
   "id": "fad1dbb1",
   "metadata": {},
   "outputs": [],
   "source": [
    "def query():\n",
    "    country = input(\"Enter the name of the country for query : \")\n",
    "    country = country.lower()\n",
    "    if country in population_dict:\n",
    "        print(f\"Population of {country} is : {population_dict[country]} crore\")\n",
    "    else:\n",
    "        print(\"This country doesn't included in our dataset. Terminatring......\")\n",
    "        return\n"
   ]
  },
  {
   "cell_type": "code",
   "execution_count": 6,
   "id": "4930d40d",
   "metadata": {},
   "outputs": [],
   "source": [
    "def main():\n",
    "    type_input = input(\"Enter your input (print, add, remove, query) : \")\n",
    "    if type_input.lower() == 'print':\n",
    "        print_all()\n",
    "    elif type_input.lower()  == 'add':\n",
    "        add()\n",
    "    elif type_input.lower()  == 'remove':\n",
    "        remove()\n",
    "    elif type_input.lower()  == 'query':\n",
    "        query()"
   ]
  },
  {
   "cell_type": "code",
   "execution_count": null,
   "id": "e6b3d5cc",
   "metadata": {},
   "outputs": [],
   "source": [
    "if __name__ == '__main__':\n",
    "    main()"
   ]
  },
  {
   "cell_type": "markdown",
   "id": "5aa3ea93",
   "metadata": {},
   "source": [
    "# 2. You are given following list of stocks and their prices in last 3 days,\n",
    "\n",
    "    |Stock  |Prices          |\n",
    "    |-------|----------------|\n",
    "    |info   |[600,630,620]   |\n",
    "    |ril    |[1430,1490,1567]|\n",
    "    |mtl    |[234,180,160]   |\n",
    "\n",
    "    1. Write a program that asks user for operation. Value of operations could be,\n",
    "        1. print: When user enters print it should print following,\n",
    "            ```\n",
    "            info ==> [600, 630, 620] ==> avg:  616.67\n",
    "            ril ==> [1430, 1490, 1567] ==> avg:  1495.67\n",
    "            mtl ==> [234, 180, 160] ==> avg:  191.33\n",
    "            ```\n",
    "        2. add: When user enters 'add', it asks for stock ticker and price. \n",
    "            If stock already exist in your list (like info, ril etc) then it will append the price to the list.\n",
    "            Otherwise it will create new entry in your dictionary. For example entering 'tata' and 560 will \n",
    "            add tata ==> [560] to the dictionary of stocks.\n"
   ]
  },
  {
   "cell_type": "code",
   "execution_count": null,
   "id": "f364dfa8",
   "metadata": {},
   "outputs": [],
   "source": [
    "stocks = {\n",
    "    'info':[600, 630, 620],\n",
    "    'ril': [1430,1490,1567],\n",
    "    'mtl': [234,180,160]\n",
    "}\n",
    "stocks"
   ]
  },
  {
   "cell_type": "code",
   "execution_count": null,
   "id": "98329cf1",
   "metadata": {},
   "outputs": [],
   "source": [
    "import statistics\n",
    "def print_all_stock():\n",
    "    for stock,price_list in stocks.items():\n",
    "        avg = statistics.mean(price_list)\n",
    "        print(f\"{stock} ==> {price_list} ==> avg: \",round(avg,2))\n"
   ]
  },
  {
   "cell_type": "code",
   "execution_count": null,
   "id": "8652c083",
   "metadata": {},
   "outputs": [],
   "source": [
    "def add():\n",
    "    stock_ticker = input(\"Enter the stock ticker: \").lower()  # Store stock tickers in lowercase\n",
    "    stock_price = input(f\"Enter the price of the {stock_ticker}: \")\n",
    "    stock_price = float(stock_price)\n",
    "    \n",
    "    if stock_ticker in stocks:\n",
    "        if isinstance(stocks[stock_ticker], list):\n",
    "            stocks[stock_ticker].append(stock_price)\n",
    "        else:\n",
    "            # Convert existing float to list if necessary\n",
    "            stocks[stock_ticker] = [stocks[stock_ticker], stock_price]\n",
    "    else:\n",
    "        stocks[stock_ticker] = [stock_price]  # Initialize as a list with the first price\n",
    "    \n",
    "    print_all_stock()"
   ]
  },
  {
   "cell_type": "code",
   "execution_count": null,
   "id": "32d74bd6",
   "metadata": {},
   "outputs": [],
   "source": [
    "def main():\n",
    "    type_input = input(\"Enter your input (print or add) : \")\n",
    "    if type_input.lower() == 'print':\n",
    "        print_all_stock()\n",
    "    elif type_input.lower()  == 'add':\n",
    "        add()\n",
    "    else:\n",
    "        print(\"Unsupported operation ..\")"
   ]
  },
  {
   "cell_type": "code",
   "execution_count": null,
   "id": "3efa0b82",
   "metadata": {},
   "outputs": [],
   "source": [
    "if __name__ == '__main__':\n",
    "    main()"
   ]
  },
  {
   "cell_type": "markdown",
   "id": "a8446c73",
   "metadata": {},
   "source": [
    "# 3.Write circle_calc() function that takes radius of a circle as an input from user and then it calculates and returns area, circumference and diameter. You should get these values in your main program by calling circle_calc function and then print them\n"
   ]
  },
  {
   "cell_type": "code",
   "execution_count": null,
   "id": "cbd8c601",
   "metadata": {},
   "outputs": [],
   "source": [
    "import math\n",
    "def circle_calc(radius):\n",
    "    area=math.pi*(radius**2)\n",
    "    circumference=2*math.pi*radius\n",
    "    diameter=2*radius\n",
    "    return area, circumference,diameter\n",
    "\n",
    "if __name__==\"__main__\":\n",
    "    r=input(\"Enter a radius:\")\n",
    "    r=float(r)\n",
    "    area, c, d = circle_calc(r)\n",
    "    print(f\"area {area}, circumference {c}, diameter {d}\")"
   ]
  },
  {
   "cell_type": "code",
   "execution_count": null,
   "id": "dd539d4e",
   "metadata": {},
   "outputs": [],
   "source": []
  }
 ],
 "metadata": {
  "kernelspec": {
   "display_name": "Python 3 (ipykernel)",
   "language": "python",
   "name": "python3"
  },
  "language_info": {
   "codemirror_mode": {
    "name": "ipython",
    "version": 3
   },
   "file_extension": ".py",
   "mimetype": "text/x-python",
   "name": "python",
   "nbconvert_exporter": "python",
   "pygments_lexer": "ipython3",
   "version": "3.9.13"
  }
 },
 "nbformat": 4,
 "nbformat_minor": 5
}
