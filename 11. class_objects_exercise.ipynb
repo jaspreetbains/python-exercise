{
 "cells": [
  {
   "cell_type": "markdown",
   "id": "0b8b87de",
   "metadata": {},
   "source": [
    "# Exercise: Class and Objects\n",
    "\n",
    "1. Create a sample class named Employee with two attributes id and name\n",
    "employee :\n",
    "    id\n",
    "    name\n",
    "object initializes id and name dynamically for every Employee object created.\n",
    "\n",
    "emp = Employee(1, \"coder\")\n",
    "2. Use del property to first delete id attribute and then the entire object"
   ]
  },
  {
   "cell_type": "code",
   "execution_count": 7,
   "id": "3cb696c7",
   "metadata": {},
   "outputs": [
    {
     "name": "stdout",
     "output_type": "stream",
     "text": [
      "ID : 1, Name : coder\n"
     ]
    },
    {
     "ename": "AttributeError",
     "evalue": "'Employee' object has no attribute 'id'",
     "output_type": "error",
     "traceback": [
      "\u001b[0;31m---------------------------------------------------------------------------\u001b[0m",
      "\u001b[0;31mAttributeError\u001b[0m                            Traceback (most recent call last)",
      "\u001b[0;32m/var/folders/14/z1s59_254cgb18z6mkky1f1m0000gn/T/ipykernel_31991/3663798948.py\u001b[0m in \u001b[0;36m<module>\u001b[0;34m\u001b[0m\n\u001b[1;32m     10\u001b[0m \u001b[0;31m# Deleting the object itself\u001b[0m\u001b[0;34m\u001b[0m\u001b[0;34m\u001b[0m\u001b[0m\n\u001b[1;32m     11\u001b[0m \u001b[0;32mtry\u001b[0m\u001b[0;34m:\u001b[0m\u001b[0;34m\u001b[0m\u001b[0;34m\u001b[0m\u001b[0m\n\u001b[0;32m---> 12\u001b[0;31m     \u001b[0mprint\u001b[0m\u001b[0;34m(\u001b[0m\u001b[0memp\u001b[0m\u001b[0;34m.\u001b[0m\u001b[0mid\u001b[0m\u001b[0;34m)\u001b[0m\u001b[0;34m\u001b[0m\u001b[0;34m\u001b[0m\u001b[0m\n\u001b[0m\u001b[1;32m     13\u001b[0m \u001b[0;32mexcept\u001b[0m \u001b[0mNameError\u001b[0m\u001b[0;34m:\u001b[0m\u001b[0;34m\u001b[0m\u001b[0;34m\u001b[0m\u001b[0m\n\u001b[1;32m     14\u001b[0m     \u001b[0mprint\u001b[0m\u001b[0;34m(\u001b[0m\u001b[0;34m\"emp id is not defined\"\u001b[0m\u001b[0;34m)\u001b[0m\u001b[0;34m\u001b[0m\u001b[0;34m\u001b[0m\u001b[0m\n",
      "\u001b[0;31mAttributeError\u001b[0m: 'Employee' object has no attribute 'id'"
     ]
    }
   ],
   "source": [
    "class Employee:\n",
    "    def __init__(self, id, name):\n",
    "        self.id = id\n",
    "        self.name = name\n",
    "    def display(self):\n",
    "        print(f'ID : {self.id}, Name : {self.name}')\n",
    "emp = Employee(1, \"coder\")\n",
    "emp.display()\n",
    "del emp.id\n",
    "# Deleting the object itself\n",
    "try:\n",
    "    print(emp.id)\n",
    "except NameError:\n",
    "    print(\"emp id is not defined\")\n",
    "\n",
    "del emp\n",
    "try:\n",
    "    emp.display()  # it will gives error after deleting emp\n",
    "except NameError:\n",
    "    print(\"emp is not defined\")"
   ]
  },
  {
   "cell_type": "code",
   "execution_count": null,
   "id": "815c5ff2",
   "metadata": {},
   "outputs": [],
   "source": []
  },
  {
   "cell_type": "code",
   "execution_count": null,
   "id": "052e5ad7",
   "metadata": {},
   "outputs": [],
   "source": []
  }
 ],
 "metadata": {
  "kernelspec": {
   "display_name": "Python 3 (ipykernel)",
   "language": "python",
   "name": "python3"
  },
  "language_info": {
   "codemirror_mode": {
    "name": "ipython",
    "version": 3
   },
   "file_extension": ".py",
   "mimetype": "text/x-python",
   "name": "python",
   "nbconvert_exporter": "python",
   "pygments_lexer": "ipython3",
   "version": "3.9.13"
  }
 },
 "nbformat": 4,
 "nbformat_minor": 5
}
