{
 "cells": [
  {
   "cell_type": "markdown",
   "id": "4f002599",
   "metadata": {},
   "source": [
    "# Exercise: Functions in python\n",
    "\n",
    "1. Write a function called calculate_area that takes base and height as an input and returns and area of a triangle. Equation of an area of a triangle is,\n",
    "area = (1/2)*base*height\n",
    "2. Modify above function to take third parameter shape type. It can be either \"triangle\" or \"rectangle\". Based on shape type it will calculate area. Equation of rectangle's area is,\n",
    "rectangle area=length*width\n",
    "If no shape is supplied then it should take triangle as a default shape\n",
    "\n",
    "3. Write a function called print_pattern that takes integer number as an argument and prints following pattern if input number is 3,\n",
    "*\n",
    "**\n",
    "***\n",
    "if input is 4 then it should print\n",
    "\n",
    "*\n",
    "**\n",
    "***\n",
    "****\n",
    "Basically number of lines it prints is equal to that number. (Hint: you need to use two for loops)"
   ]
  },
  {
   "cell_type": "code",
   "execution_count": 20,
   "id": "5e1002a0",
   "metadata": {},
   "outputs": [
    {
     "name": "stdout",
     "output_type": "stream",
     "text": [
      "Area of triangle is  10\n"
     ]
    }
   ],
   "source": [
    "def calculate_area(b, h):\n",
    "    area = round(1/2*(b*h))\n",
    "    return area\n",
    "b = 2\n",
    "h = 10\n",
    "area = calculate_area(b, h)\n",
    "print(\"Area of triangle is \", area)"
   ]
  },
  {
   "cell_type": "code",
   "execution_count": 22,
   "id": "f5213ede",
   "metadata": {},
   "outputs": [],
   "source": [
    "def calculate_area(dimension1,dimension2,shape=\"triangle\"):\n",
    "    '''\n",
    "    :param dimension1: In case of triangle it is \"base\". For rectangle it is \"length\".\n",
    "    :param dimension2: In case of triangle it is \"height\". For rectangle it is \"width\".\n",
    "    :param shape: Either \"triangle\" or \"rectangle\"\n",
    "    :return: Area of a shape\n",
    "    '''\n",
    "    if shape==\"triangle\":\n",
    "        area=1/2*(dimension1*dimension2) # Triangle area is : 1/2(Base*Height)\n",
    "    elif shape==\"rectangle\":\n",
    "        area=dimension1*dimension2 # Rectangle area is: Length*Width\n",
    "    else:\n",
    "        print(\"Error: Input shape is neither triangle nor rectangle.\")\n",
    "        area=None # If user didn't supply \"triangle\" or \"rectangle\" as shape then return None\n",
    "    return area"
   ]
  },
  {
   "cell_type": "code",
   "execution_count": 28,
   "id": "4519170b",
   "metadata": {},
   "outputs": [
    {
     "name": "stdout",
     "output_type": "stream",
     "text": [
      "\n",
      "*\n",
      "**\n",
      "***\n",
      "****\n",
      "*****\n"
     ]
    }
   ],
   "source": [
    "def  print_pattern(size):\n",
    "    for i in range(0,size+1):\n",
    "        s = \"\"\n",
    "        for j in range(i):\n",
    "            s +=\"*\"\n",
    "        print(s)\n",
    "print_pattern(5)"
   ]
  },
  {
   "cell_type": "code",
   "execution_count": null,
   "id": "0a3ce2e9",
   "metadata": {},
   "outputs": [],
   "source": []
  }
 ],
 "metadata": {
  "kernelspec": {
   "display_name": "Python 3 (ipykernel)",
   "language": "python",
   "name": "python3"
  },
  "language_info": {
   "codemirror_mode": {
    "name": "ipython",
    "version": 3
   },
   "file_extension": ".py",
   "mimetype": "text/x-python",
   "name": "python",
   "nbconvert_exporter": "python",
   "pygments_lexer": "ipython3",
   "version": "3.9.13"
  }
 },
 "nbformat": 4,
 "nbformat_minor": 5
}
