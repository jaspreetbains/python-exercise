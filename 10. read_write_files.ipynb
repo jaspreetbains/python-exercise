{
 "cells": [
  {
   "cell_type": "markdown",
   "id": "ff765794",
   "metadata": {},
   "source": [
    "# ## Exercise: Python Read Write File\n",
    "1. [poem.txt]contains famous poem \"Road not taken\" by poet Robert Frost. You have to read this file in your python program and find out words with maximum occurance.\n",
    "\n"
   ]
  },
  {
   "cell_type": "code",
   "execution_count": 12,
   "id": "f7450e12",
   "metadata": {},
   "outputs": [
    {
     "name": "stdout",
     "output_type": "stream",
     "text": [
      "9\n",
      "The most common words are: and, i\n",
      "Each occurs 9 times\n"
     ]
    }
   ],
   "source": [
    "from collections import Counter\n",
    "import re\n",
    "\n",
    "def read_file(file_path):\n",
    "    with open(file_path, 'r') as file:\n",
    "        return file.read()\n",
    "\n",
    "def preprocess_text(text):\n",
    "    # Convert to lowercase\n",
    "    text = text.lower()\n",
    "    # Remove punctuation and non-word characters\n",
    "    text = re.sub(r'[^\\w\\s]', '', text)\n",
    "    return text\n",
    "\n",
    "def find_most_common_words(text):\n",
    "    words = text.split()\n",
    "    word_counts = Counter(words)\n",
    "    max_occurrence = max(word_counts.values())\n",
    "    print(max_occurrence)\n",
    "    most_common_words = [word for word, count in word_counts.items() if count == max_occurrence]\n",
    "    return most_common_words, max_occurrence\n",
    "\n",
    "def main():\n",
    "    file_path = 'poem.txt'\n",
    "    poem_text = read_file(file_path)\n",
    "    cleaned_text = preprocess_text(poem_text)\n",
    "    most_common_words, max_occurrence = find_most_common_words(cleaned_text)\n",
    "    \n",
    "    print(f\"The most common words are: {', '.join(most_common_words)}\")\n",
    "    print(f\"Each occurs {max_occurrence} times\")\n",
    "\n",
    "if __name__ == '__main__':\n",
    "    main()          \n",
    "    "
   ]
  },
  {
   "cell_type": "markdown",
   "id": "97461427",
   "metadata": {},
   "source": [
    "# \n",
    "2. [stocks.csv] contains stock price, earnings per share and book value. You are writing a stock market application that will process this file and create a new file\n",
    "with financial metrics such as pe ratio and price to book ratio. These are calculated as,\n",
    "```\n",
    "pe ratio = price / earnings per share\n",
    "price to book ratio = price / book value\n",
    "```\n",
    "\n",
    "\n",
    "Your input format (stocks.csv) is,\n",
    "\n",
    "|Company Name|Price|Earnings Per Share|Book Value|\n",
    "|-------|----------|-------|----------|\n",
    "|Reliance|1467|66|653|\n",
    "|Tata Steel|391|89|572|\n",
    "\n",
    "Output.csv should look like this,\n",
    "\n",
    "|Company Name|PE Ratio|PB Ratio|\n",
    "|-------|----------|-------|\n",
    "|Reliance|22.23|2.25|\n",
    "|Tata Steel|4.39|0.68|"
   ]
  },
  {
   "cell_type": "code",
   "execution_count": 25,
   "id": "753b437d",
   "metadata": {},
   "outputs": [
    {
     "name": "stdout",
     "output_type": "stream",
     "text": [
      "Reliance 22.23 2.25\n",
      "Tata Steel 4.39 0.68\n",
      "Infosys 18.57 4.42\n",
      "Axis Bank 38.89 2.81\n",
      "Bajaj Finance 58.61 11.86\n"
     ]
    }
   ],
   "source": [
    "def read_write_file(file_path):\n",
    "    with open(file_path, 'r') as file, open(\"output.csv\", \"w\") as out:\n",
    "        out.write(\"Company Name,PE Ratio, PB Ratio\\n\")\n",
    "        next(file)\n",
    "        for line in file:\n",
    "            tokens = line.split(',')\n",
    "            company_name = tokens[0]\n",
    "            pe_ratio = round(float(tokens[1])/float(tokens[2]),2)\n",
    "            pb_ratio = round(float(tokens[1])/float(tokens[3]),2)\n",
    "            print(company_name, pe_ratio, pb_ratio)\n",
    "            out.write(f\"{company_name},{pe_ratio},{pb_ratio}\\n\")\n",
    "\n",
    "\n",
    "    \n",
    "def main():\n",
    "    file_path = 'stocks.csv'\n",
    "    read_write_file(file_path)\n",
    "\n",
    "if __name__ == '__main__':\n",
    "    main() "
   ]
  },
  {
   "cell_type": "code",
   "execution_count": null,
   "id": "d5a43ab2",
   "metadata": {},
   "outputs": [],
   "source": []
  }
 ],
 "metadata": {
  "kernelspec": {
   "display_name": "Python 3 (ipykernel)",
   "language": "python",
   "name": "python3"
  },
  "language_info": {
   "codemirror_mode": {
    "name": "ipython",
    "version": 3
   },
   "file_extension": ".py",
   "mimetype": "text/x-python",
   "name": "python",
   "nbconvert_exporter": "python",
   "pygments_lexer": "ipython3",
   "version": "3.9.13"
  }
 },
 "nbformat": 4,
 "nbformat_minor": 5
}
