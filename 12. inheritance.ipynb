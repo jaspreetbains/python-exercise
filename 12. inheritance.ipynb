{
 "cells": [
  {
   "cell_type": "markdown",
   "id": "f3221c8b",
   "metadata": {},
   "source": [
    "# Exercise: Inheritance\n",
    "\n",
    "create inheritance using animal Dog relation.\n",
    "for example, \n",
    "    Animal and Dog both has same habitat so create a method for habitat \n",
    "use super() constructor for calling parent constructor.\n",
    "class Animal:\n",
    "    #code\n",
    "\n",
    "class Dog(Animal):\n",
    "    super()-it refers Animal class,now you can call Animal's methods."
   ]
  },
  {
   "cell_type": "code",
   "execution_count": 2,
   "id": "cfda3415",
   "metadata": {},
   "outputs": [
    {
     "name": "stdout",
     "output_type": "stream",
     "text": [
      "Kennel\n",
      "Woof woof!\n"
     ]
    }
   ],
   "source": [
    "class Animal:\n",
    "    def __init__(self, habitat):\n",
    "        self.habitat = habitat\n",
    "\n",
    "    def print_habitat(self):\n",
    "        print(self.habitat)\n",
    "\n",
    "    def sound(self):\n",
    "        print(\"Some Animal Sound\")\n",
    "        \n",
    "class Dog(Animal):\n",
    "    def __init__(self):\n",
    "        super().__init__(\"Kennel\")\n",
    "\n",
    "    def sound(self):\n",
    "        print(\"Woof woof!\")\n",
    "x = Dog()\n",
    "x.print_habitat()\n",
    "x.sound()   "
   ]
  },
  {
   "cell_type": "code",
   "execution_count": 3,
   "id": "a76f079c",
   "metadata": {},
   "outputs": [
    {
     "name": "stdout",
     "output_type": "stream",
     "text": [
      "Buddy the Golden Retriever says Woof!\n"
     ]
    }
   ],
   "source": [
    "class Animal:\n",
    "    def __init__(self, name):\n",
    "        self.name = name\n",
    "\n",
    "    def speak(self):\n",
    "        pass\n",
    "\n",
    "class Dog(Animal):\n",
    "    def __init__(self, name, breed):\n",
    "        super().__init__(name)  # Initialize the superclass\n",
    "        self.breed = breed\n",
    "\n",
    "    def speak(self):\n",
    "        return f\"{self.name} the {self.breed} says Woof!\"\n",
    "\n",
    "# Creating an instance of Dog\n",
    "dog = Dog(\"Buddy\", \"Golden Retriever\")\n",
    "print(dog.speak())  # Output: Buddy the Golden Retriever says Woof!"
   ]
  },
  {
   "cell_type": "code",
   "execution_count": 4,
   "id": "3bcc82c6",
   "metadata": {},
   "outputs": [
    {
     "name": "stdout",
     "output_type": "stream",
     "text": [
      "Buddy says Woof!\n",
      "Buddy is walking.\n"
     ]
    }
   ],
   "source": [
    "# Multiple inheritance\n",
    "class Animal:\n",
    "    def __init__(self, name):\n",
    "        self.name = name\n",
    "\n",
    "    def speak(self):\n",
    "        pass\n",
    "\n",
    "class Walker:\n",
    "    def walk(self):\n",
    "        return f\"{self.name} is walking.\"\n",
    "\n",
    "class Dog(Animal, Walker):\n",
    "    def speak(self):\n",
    "        return f\"{self.name} says Woof!\"\n",
    "\n",
    "# Creating an instance of Dog\n",
    "dog = Dog(\"Buddy\")\n",
    "print(dog.speak())  # Output: Buddy says Woof!\n",
    "print(dog.walk())   # Output: Buddy is walking.\n"
   ]
  },
  {
   "cell_type": "code",
   "execution_count": 5,
   "id": "e00aca80",
   "metadata": {},
   "outputs": [
    {
     "name": "stdout",
     "output_type": "stream",
     "text": [
      "B's method\n",
      "(<class '__main__.D'>, <class '__main__.B'>, <class '__main__.C'>, <class '__main__.A'>, <class 'object'>)\n"
     ]
    }
   ],
   "source": [
    "'''\n",
    "Method Resolution Order (MRO)\n",
    "In multiple inheritance scenarios, Python uses the Method Resolution Order (MRO) to determine which method to call.\n",
    "You can view the MRO using the __mro__ attribute or the mro() method.\n",
    "'''\n",
    "class A:\n",
    "    def method(self):\n",
    "        print(\"A's method\")\n",
    "\n",
    "class B(A):\n",
    "    def method(self):\n",
    "        print(\"B's method\")\n",
    "\n",
    "class C(A):\n",
    "    def method(self):\n",
    "        print(\"C's method\")\n",
    "\n",
    "class D(B, C):\n",
    "    pass\n",
    "\n",
    "d = D()\n",
    "d.method()  # Output: B's method\n",
    "print(D.__mro__) "
   ]
  },
  {
   "cell_type": "markdown",
   "id": "4ff313fb",
   "metadata": {},
   "source": [
    "# Exercise: Multiple Inheritance\n",
    "\n",
    "Real Life Example :\n",
    "\n",
    "Create multiple inheritance on teacher,student and youtuber.\n",
    "Q. if we have created teacher and now one student joins master degree with becoming teacher then what??\n",
    "\n",
    "Ans :  just make subclass from  teacher so that student will become teacher\n",
    "Now student is teacher as well as youtuber then what???\n",
    "-just use multiple inheritance for these three relations"
   ]
  },
  {
   "cell_type": "code",
   "execution_count": 11,
   "id": "394229af",
   "metadata": {},
   "outputs": [
    {
     "name": "stdout",
     "output_type": "stream",
     "text": [
      "Im teacher\n",
      "Im student\n",
      "Im youtuber\n"
     ]
    }
   ],
   "source": [
    "class Teacher:\n",
    "    def teacher_class(self):\n",
    "        print('Im teacher')\n",
    "class Student:\n",
    "    def student_class(self):\n",
    "        print('Im student')\n",
    "class Youtuber:\n",
    "    def youtuber_class(self):\n",
    "        print(\"Im youtuber\")\n",
    "class Person(Teacher, Student, Youtuber):\n",
    "    pass\n",
    "\n",
    "coder = Person()\n",
    "coder.teacher_class()\n",
    "coder.student_class()\n",
    "coder.youtuber_class()"
   ]
  },
  {
   "cell_type": "code",
   "execution_count": null,
   "id": "9a26d652",
   "metadata": {},
   "outputs": [],
   "source": []
  }
 ],
 "metadata": {
  "kernelspec": {
   "display_name": "Python 3 (ipykernel)",
   "language": "python",
   "name": "python3"
  },
  "language_info": {
   "codemirror_mode": {
    "name": "ipython",
    "version": 3
   },
   "file_extension": ".py",
   "mimetype": "text/x-python",
   "name": "python",
   "nbconvert_exporter": "python",
   "pygments_lexer": "ipython3",
   "version": "3.9.13"
  }
 },
 "nbformat": 4,
 "nbformat_minor": 5
}
