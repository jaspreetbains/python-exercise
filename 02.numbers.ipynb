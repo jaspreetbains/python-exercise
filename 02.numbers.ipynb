{
 "cells": [
  {
   "cell_type": "markdown",
   "id": "13e5f2d8",
   "metadata": {},
   "source": [
    "# Exercise: Numbers in python\n",
    "\n",
    "1. You have a football field that is 92 meter long and 48.8 meter wide. Find out total area using python and print it.\n",
    "2. You bought 9 packets of potato chips from a store. Each packet costs 1.49 dollar and you gave shopkeeper 20 dollar. Find out using python, how many dollars is the shopkeeper going to give you back?\n",
    "3. You want to replace tiles in your bathroom which is exactly square and 5.5 feet is its length. If tiles cost 500 rs per square feet, how much will be the total cost to replace all tiles. Calculate and print the cost using python (Hint: Use power operator ** to find area of a square)\n",
    "4. Print binary representation of number 17"
   ]
  },
  {
   "cell_type": "code",
   "execution_count": 4,
   "id": "8a702894",
   "metadata": {},
   "outputs": [
    {
     "name": "stdout",
     "output_type": "stream",
     "text": [
      "area of field =4489.599999999999\n"
     ]
    }
   ],
   "source": [
    "field_length = 92\n",
    "field_width = 48.8\n",
    "area  = float(field_length*field_width)\n",
    "print(f\"area of field ={area}\")"
   ]
  },
  {
   "cell_type": "code",
   "execution_count": 5,
   "id": "5a76a187",
   "metadata": {},
   "outputs": [
    {
     "name": "stdout",
     "output_type": "stream",
     "text": [
      "shopkeeper going to give you back = 6.59 dollars\n"
     ]
    }
   ],
   "source": [
    "potato_chips = 9\n",
    "each_cpost = 1.49\n",
    "gave = 20\n",
    "cash_back = 20 - (9*1.49)\n",
    "print(f\"shopkeeper going to give you back = {cash_back} dollars\")"
   ]
  },
  {
   "cell_type": "code",
   "execution_count": null,
   "id": "8e8dd47e",
   "metadata": {},
   "outputs": [],
   "source": []
  }
 ],
 "metadata": {
  "kernelspec": {
   "display_name": "Python 3 (ipykernel)",
   "language": "python",
   "name": "python3"
  },
  "language_info": {
   "codemirror_mode": {
    "name": "ipython",
    "version": 3
   },
   "file_extension": ".py",
   "mimetype": "text/x-python",
   "name": "python",
   "nbconvert_exporter": "python",
   "pygments_lexer": "ipython3",
   "version": "3.9.13"
  }
 },
 "nbformat": 4,
 "nbformat_minor": 5
}
