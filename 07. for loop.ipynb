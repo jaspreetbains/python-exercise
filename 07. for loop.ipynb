{
 "cells": [
  {
   "cell_type": "markdown",
   "id": "cc5fde8e",
   "metadata": {},
   "source": [
    "# Exercise: Python for loop\n",
    "\n",
    "1. After flipping a coin 10 times you got this result,\n",
    "result = [\"heads\",\"tails\",\"tails\",\"heads\",\"tails\",\"heads\",\"heads\",\"tails\",\"tails\",\"tails\"]\n",
    "Using for loop figure out how many times you got heads\n",
    "2. Print square of all numbers between 1 to 10 except even numbers\n",
    "3. Your monthly expense list (from Jan to May) looks like this,\n",
    "expense_list = [2340, 2500, 2100, 3100, 2980]\n",
    "Write a program that asks you to enter an expense amount and program should tell you in which month that expense occurred. If expense is not found then it should print that as well.\n",
    "4. Lets say you are running a 5 km race. Write a program that,\n",
    "Upon completing each 1 km asks you \"are you tired?\"\n",
    "If you reply \"yes\" then it should break and print \"you didn't finish the race\"\n",
    "If you reply \"no\" then it should continue and ask \"are you tired\" on every km\n",
    "If you finish all 5 km then it should print congratulations message\n",
    "5. Write a program that prints following shape\n",
    "*\n",
    "**\n",
    "***\n",
    "****\n",
    "*****"
   ]
  },
  {
   "cell_type": "code",
   "execution_count": 1,
   "id": "af07dbae",
   "metadata": {},
   "outputs": [
    {
     "name": "stdout",
     "output_type": "stream",
     "text": [
      "you got 4 times heads\n"
     ]
    }
   ],
   "source": [
    "result = [\"heads\",\"tails\",\"tails\",\"heads\",\"tails\",\"heads\",\"heads\",\"tails\",\"tails\",\"tails\"]\n",
    "head_count = 0\n",
    "for r in result:\n",
    "    if r == \"heads\":\n",
    "        head_count = head_count + 1\n",
    "print(f\"you got {head_count} times heads\")"
   ]
  },
  {
   "cell_type": "code",
   "execution_count": 2,
   "id": "61959ec2",
   "metadata": {},
   "outputs": [
    {
     "name": "stdout",
     "output_type": "stream",
     "text": [
      "square of 1 = 1\n",
      "square of 2 = 4\n",
      "square of 3 = 9\n",
      "square of 4 = 16\n",
      "square of 5 = 25\n",
      "square of 6 = 36\n",
      "square of 7 = 49\n",
      "square of 8 = 64\n",
      "square of 9 = 81\n",
      "square of 10 = 100\n"
     ]
    }
   ],
   "source": [
    "#Print square of all numbers between 1 to 10 except even numbers\n",
    "\n",
    "for i in range(1,11):\n",
    "    print(f\"square of {i} = {i*i}\")"
   ]
  },
  {
   "cell_type": "code",
   "execution_count": 3,
   "id": "91fc25d6",
   "metadata": {},
   "outputs": [
    {
     "name": "stdout",
     "output_type": "stream",
     "text": [
      "Enter an expense amount = 2100\n",
      "This expense occured in march months\n"
     ]
    }
   ],
   "source": [
    "expense_list = [2340, 2500, 2100, 3100, 2980]\n",
    "expense_amount = int(input(\"Enter an expense amount = \"))\n",
    "months = [\"Jan\", \"Feb\", \"march\", \"april\", \"may\"]\n",
    "index = -1\n",
    "flag = False\n",
    "for exp in expense_list:\n",
    "    index = index+1\n",
    "    if expense_amount == exp:\n",
    "        print(f\"This expense occured in {months[index]} months\")\n",
    "        flag = True\n",
    "        break\n",
    "if flag is False:\n",
    "    print(f\"{expense_amount} expense is not found\")"
   ]
  },
  {
   "cell_type": "code",
   "execution_count": 4,
   "id": "8ac66155",
   "metadata": {},
   "outputs": [
    {
     "name": "stdout",
     "output_type": "stream",
     "text": [
      "are you tired? type yes or no = yes\n",
      "Sorry!!! try next time\n"
     ]
    }
   ],
   "source": [
    "response = \"no\"\n",
    "for i in range(1,6):\n",
    "    response = input(\"are you tired? type yes or no = \")\n",
    "    if response == \"yes\":\n",
    "        break\n",
    "if response == \"no\":\n",
    "    print(\"congratulations!!!!! You completed 5 km race\")\n",
    "else:\n",
    "    print(\"Sorry!!! try next time\")\n",
    "    \n"
   ]
  },
  {
   "cell_type": "code",
   "execution_count": 5,
   "id": "fcfb77dc",
   "metadata": {},
   "outputs": [
    {
     "name": "stdout",
     "output_type": "stream",
     "text": [
      "*\n",
      "**\n",
      "***\n",
      "****\n",
      "*****\n"
     ]
    }
   ],
   "source": [
    "for i in range(1,6):\n",
    "    s = ''\n",
    "    for j in range(i):\n",
    "        s += '*'\n",
    "    print(s)\n",
    "        "
   ]
  },
  {
   "cell_type": "code",
   "execution_count": null,
   "id": "af78d2e4",
   "metadata": {},
   "outputs": [],
   "source": []
  }
 ],
 "metadata": {
  "kernelspec": {
   "display_name": "Python 3 (ipykernel)",
   "language": "python",
   "name": "python3"
  },
  "language_info": {
   "codemirror_mode": {
    "name": "ipython",
    "version": 3
   },
   "file_extension": ".py",
   "mimetype": "text/x-python",
   "name": "python",
   "nbconvert_exporter": "python",
   "pygments_lexer": "ipython3",
   "version": "3.9.13"
  }
 },
 "nbformat": 4,
 "nbformat_minor": 5
}
