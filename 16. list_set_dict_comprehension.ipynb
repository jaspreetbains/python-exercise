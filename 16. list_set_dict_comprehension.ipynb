{
 "cells": [
  {
   "cell_type": "markdown",
   "id": "d3682779",
   "metadata": {},
   "source": [
    "# Exercise: List Set Dict Comprehensions\n",
    "\n",
    "1. Create a Dictionary which contains the Binary values mapping with numbers found in the below integer and binary and save it in binary_dict.\n",
    "Example :\n",
    "\n",
    "    integer = [0, 1, 2, 3, 4]\n",
    "    binary = [\"0\", \"1\", \"10\", \"11\", \"100\"]\n",
    "    binary_dict = {0:\"0\", 1:\"1\", 2:\"10\", 3: \"11\", 4:\"100\"}\n",
    "2. Create a List which contains additive inverse of a given integer list. An additive inverse a for an integer i is a number such that:\n",
    "a + i = 0\n",
    "Example:\n",
    "\n",
    "integer = [1, -1, 2, 3, 5, 0, -7]\n",
    "additive_inverse = [-1, 1, -2, -3, -5, 0, 7]\n",
    "\n",
    "\n",
    "3. Create a set which only contains unique sqaures from a given a integer list.\n",
    "integer = [1, -1, 2, -2, 3, -3]\n",
    "sq_set = {1, 4, 9}"
   ]
  },
  {
   "cell_type": "code",
   "execution_count": 5,
   "id": "3dcf3a69",
   "metadata": {},
   "outputs": [
    {
     "name": "stdout",
     "output_type": "stream",
     "text": [
      "{0: '0', 1: '1', 2: '10', 3: '11', 4: '100'}\n"
     ]
    }
   ],
   "source": [
    "integer = [0, 1, 2, 3, 4]\n",
    "binary = [\"0\", \"1\", \"10\", \"11\", \"100\"]\n",
    "z = zip(integer, binary)\n",
    "\n",
    "binary_dict = {integer: binary for integer, binary in z}\n",
    "\n",
    "print(binary_dict)"
   ]
  },
  {
   "cell_type": "code",
   "execution_count": 2,
   "id": "068b25d5",
   "metadata": {},
   "outputs": [
    {
     "name": "stdout",
     "output_type": "stream",
     "text": [
      "[-1, 1, -2, -3, -5, 0, 7]\n"
     ]
    }
   ],
   "source": [
    "integer = [1, -1, 2, 3, 5, 0, -7]\n",
    "additive_inverse = [-1*i for i in integer]\n",
    "print(additive_inverse)"
   ]
  },
  {
   "cell_type": "code",
   "execution_count": 3,
   "id": "3396aa7e",
   "metadata": {},
   "outputs": [
    {
     "name": "stdout",
     "output_type": "stream",
     "text": [
      "{1, 4, 9}\n"
     ]
    }
   ],
   "source": [
    "integer = [1, -1, 2, -2, 3, -3]\n",
    "sq_set = {i*i for i in integer}\n",
    "print(sq_set)"
   ]
  }
 ],
 "metadata": {
  "kernelspec": {
   "display_name": "Python 3 (ipykernel)",
   "language": "python",
   "name": "python3"
  },
  "language_info": {
   "codemirror_mode": {
    "name": "ipython",
    "version": 3
   },
   "file_extension": ".py",
   "mimetype": "text/x-python",
   "name": "python",
   "nbconvert_exporter": "python",
   "pygments_lexer": "ipython3",
   "version": "3.9.13"
  }
 },
 "nbformat": 4,
 "nbformat_minor": 5
}
