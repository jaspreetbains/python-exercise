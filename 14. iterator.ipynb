{
 "cells": [
  {
   "cell_type": "markdown",
   "id": "145a8d09",
   "metadata": {},
   "source": [
    "# Exercise: Iterators\n",
    "\n",
    "Create an iterator for fibonacci series in such a way that each next returns the next element from fibonacci series.\n",
    "The iterator should stop when it reaches a limit defined in the constructor."
   ]
  },
  {
   "cell_type": "code",
   "execution_count": 1,
   "id": "4075999d",
   "metadata": {},
   "outputs": [],
   "source": [
    "class Fibonacci:\n",
    "    def __init__(self, limit):\n",
    "        self.pre = 0\n",
    "        self.cur = 1\n",
    "        self.n = 1\n",
    "        self.limit = limit\n",
    "\n",
    "    def __iter__(self):\n",
    "        return self\n",
    "\n",
    "    def __next__(self):\n",
    "        if self.n < self.limit:\n",
    "            result = self.pre + self.cur\n",
    "            self.pre = self.cur\n",
    "            self.cur = result\n",
    "            self.n += 1\n",
    "            return result\n",
    "        else:\n",
    "            raise StopIteration"
   ]
  },
  {
   "cell_type": "code",
   "execution_count": 2,
   "id": "41d29baa",
   "metadata": {},
   "outputs": [
    {
     "name": "stdout",
     "output_type": "stream",
     "text": [
      "1\n",
      "2\n",
      "3\n",
      "5\n"
     ]
    }
   ],
   "source": [
    "fib_iterator = iter(Fibonacci(5))\n",
    "while True:\n",
    "    # print the value of next fibonacci up to 5th fibonacci\n",
    "    try:\n",
    "        print(next(fib_iterator))\n",
    "    except StopIteration:\n",
    "        break"
   ]
  }
 ],
 "metadata": {
  "kernelspec": {
   "display_name": "Python 3 (ipykernel)",
   "language": "python",
   "name": "python3"
  },
  "language_info": {
   "codemirror_mode": {
    "name": "ipython",
    "version": 3
   },
   "file_extension": ".py",
   "mimetype": "text/x-python",
   "name": "python",
   "nbconvert_exporter": "python",
   "pygments_lexer": "ipython3",
   "version": "3.9.13"
  }
 },
 "nbformat": 4,
 "nbformat_minor": 5
}
