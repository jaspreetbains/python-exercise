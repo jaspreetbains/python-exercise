{
 "cells": [
  {
   "cell_type": "markdown",
   "id": "f21f8308",
   "metadata": {},
   "source": [
    "# Exercise: Commandline Argument Processing using argparse\n",
    "\n",
    "Take subject marks as command line arguments\n",
    "example: \n",
    "    python3 cmd.py --physics 60 --chemistry 70 --maths 90\n",
    "Find average marks for the three subjects using command line input of marks."
   ]
  },
  {
   "cell_type": "code",
   "execution_count": 2,
   "id": "56ba1807",
   "metadata": {},
   "outputs": [
    {
     "name": "stdout",
     "output_type": "stream",
     "text": [
      "Physics: 60\n",
      "Chemistry: 70\n",
      "Maths: 90\n",
      "Total Marks: 220\n",
      "Average Marks: 73.33\n"
     ]
    }
   ],
   "source": [
    "import argparse\n",
    "\n",
    "'''# Create the parser\n",
    "parser = argparse.ArgumentParser(description=\"Subject Marks\")\n",
    "\n",
    "# Add arguments\n",
    "parser.add_argument('physics ', type=float, help=\"physics\")\n",
    "parser.add_argument('chemistry', type=float, help=\"chemistry\")\n",
    "parser.add_argument('maths', type=float, help=\"maths\")\n",
    "# Parse the arguments\n",
    "args = parser.parse_args()\n",
    "\n",
    "# Calculate the sum\n",
    "result = args.physics + args.chemistry + args.maths\n",
    "\n",
    "# Print the resu\n",
    "print(f\"Result : \", result)'''\n",
    "\n",
    "\n",
    "# Simulate command-line arguments (replace with actual values)\n",
    "args = argparse.Namespace(physics=60, chemistry=70, maths=90)\n",
    "\n",
    "# Retrieve the marks\n",
    "physics_marks = args.physics\n",
    "chemistry_marks = args.chemistry\n",
    "maths_marks = args.maths\n",
    "\n",
    "# Calculate total and average\n",
    "total_marks = physics_marks + chemistry_marks + maths_marks\n",
    "average_marks = total_marks / 3\n",
    "\n",
    "# Print the marks and calculations\n",
    "print(f\"Physics: {physics_marks}\")\n",
    "print(f\"Chemistry: {chemistry_marks}\")\n",
    "print(f\"Maths: {maths_marks}\")\n",
    "print(f\"Total Marks: {total_marks}\")\n",
    "print(f\"Average Marks: {average_marks:.2f}\")"
   ]
  },
  {
   "cell_type": "code",
   "execution_count": null,
   "id": "0fdd0ce6",
   "metadata": {},
   "outputs": [],
   "source": []
  }
 ],
 "metadata": {
  "kernelspec": {
   "display_name": "Python 3 (ipykernel)",
   "language": "python",
   "name": "python3"
  },
  "language_info": {
   "codemirror_mode": {
    "name": "ipython",
    "version": 3
   },
   "file_extension": ".py",
   "mimetype": "text/x-python",
   "name": "python",
   "nbconvert_exporter": "python",
   "pygments_lexer": "ipython3",
   "version": "3.9.13"
  }
 },
 "nbformat": 4,
 "nbformat_minor": 5
}
