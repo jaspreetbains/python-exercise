{
 "cells": [
  {
   "cell_type": "markdown",
   "id": "f7a22c8b",
   "metadata": {},
   "source": [
    "# Exercise: Generators\n",
    "\n",
    "1. Print Square Sequence using yield\n",
    "    Create Generator method such that every time it will returns a next square number\n",
    "\n",
    "for exmaple : 1 4 9 16 .."
   ]
  },
  {
   "cell_type": "code",
   "execution_count": 1,
   "id": "056f0e00",
   "metadata": {},
   "outputs": [],
   "source": [
    "def find_square():\n",
    "    i = 1\n",
    "    while True:\n",
    "        yield i*i\n",
    "        i +=1"
   ]
  },
  {
   "cell_type": "code",
   "execution_count": 2,
   "id": "6624b0a6",
   "metadata": {},
   "outputs": [
    {
     "data": {
      "text/plain": [
       "<generator object find_square at 0x7fbfe9c2d890>"
      ]
     },
     "execution_count": 2,
     "metadata": {},
     "output_type": "execute_result"
    }
   ],
   "source": [
    "my_gen = find_square()\n",
    "my_gen"
   ]
  },
  {
   "cell_type": "code",
   "execution_count": 3,
   "id": "2b2e4211",
   "metadata": {},
   "outputs": [
    {
     "name": "stdout",
     "output_type": "stream",
     "text": [
      "1\n",
      "4\n",
      "9\n",
      "16\n",
      "25\n"
     ]
    }
   ],
   "source": [
    "for item in my_gen:\n",
    "    if item>25:\n",
    "        break\n",
    "    print(item)"
   ]
  },
  {
   "cell_type": "code",
   "execution_count": null,
   "id": "62fa860c",
   "metadata": {},
   "outputs": [],
   "source": []
  }
 ],
 "metadata": {
  "kernelspec": {
   "display_name": "Python 3 (ipykernel)",
   "language": "python",
   "name": "python3"
  },
  "language_info": {
   "codemirror_mode": {
    "name": "ipython",
    "version": 3
   },
   "file_extension": ".py",
   "mimetype": "text/x-python",
   "name": "python",
   "nbconvert_exporter": "python",
   "pygments_lexer": "ipython3",
   "version": "3.9.13"
  }
 },
 "nbformat": 4,
 "nbformat_minor": 5
}
